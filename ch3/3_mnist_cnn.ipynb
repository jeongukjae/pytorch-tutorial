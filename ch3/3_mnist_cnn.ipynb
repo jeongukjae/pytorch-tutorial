{
  "nbformat": 4,
  "nbformat_minor": 0,
  "metadata": {
    "colab": {
      "name": "mnist_cnn.ipynb",
      "version": "0.3.2",
      "provenance": [],
      "collapsed_sections": [],
      "include_colab_link": true
    },
    "kernelspec": {
      "name": "python3",
      "display_name": "Python 3"
    },
    "accelerator": "GPU"
  },
  "cells": [
    {
      "cell_type": "markdown",
      "metadata": {
        "id": "view-in-github",
        "colab_type": "text"
      },
      "source": [
        "<a href=\"https://colab.research.google.com/github/jeongukjae/pytorch-tutorial/blob/master/ch3/3_mnist_cnn.ipynb\" target=\"_parent\"><img src=\"https://colab.research.google.com/assets/colab-badge.svg\" alt=\"Open In Colab\"/></a>"
      ]
    },
    {
      "metadata": {
        "id": "IvkM_Q99vlxI",
        "colab_type": "text"
      },
      "cell_type": "markdown",
      "source": [
        "# MNIST with PyTorch\n",
        "\n",
        "(CNN)"
      ]
    },
    {
      "metadata": {
        "id": "29DpER0Sal5J",
        "colab_type": "code",
        "colab": {}
      },
      "cell_type": "code",
      "source": [
        "import torch\n",
        "\n",
        "from torch import nn, optim\n",
        "from torch.nn import functional\n",
        "from torch.autograd import Variable\n",
        "from torch.utils.data import DataLoader, TensorDataset, random_split\n",
        "\n",
        "from torchvision import datasets, transforms\n",
        "\n",
        "from sklearn import model_selection\n",
        "\n",
        "from matplotlib import pyplot as plt\n",
        "from matplotlib import cm\n",
        "\n",
        "%matplotlib inline"
      ],
      "execution_count": 0,
      "outputs": []
    },
    {
      "metadata": {
        "id": "tydPcFkqbrlj",
        "colab_type": "code",
        "colab": {}
      },
      "cell_type": "code",
      "source": [
        "# load mnist data\n",
        "mnist_train = datasets.MNIST('./mnist-data',\n",
        "                       download=True,\n",
        "                       train=True,\n",
        "                       transform=transforms.ToTensor())\n",
        "mnist_test = datasets.MNIST('./mnist-data',\n",
        "                       download=True,\n",
        "                       train=False,\n",
        "                       transform=transforms.ToTensor())"
      ],
      "execution_count": 0,
      "outputs": []
    },
    {
      "metadata": {
        "id": "WO77gSQTb7KF",
        "colab_type": "code",
        "outputId": "7e6fefaa-689b-461b-fbfb-48c77db11eae",
        "colab": {
          "base_uri": "https://localhost:8080/",
          "height": 265
        }
      },
      "cell_type": "code",
      "source": [
        "# show mnist data\n",
        "plt.imshow(mnist_train.data[0], cmap=cm.gray_r)\n",
        "plt.show()"
      ],
      "execution_count": 3,
      "outputs": [
        {
          "output_type": "display_data",
          "data": {
            "image/png": "[encoded data removed]",
            "text/plain": [
              "<Figure size 432x288 with 1 Axes>"
            ]
          },
          "metadata": {
            "tags": []
          }
        }
      ]
    },
    {
      "metadata": {
        "id": "oCl-G7zmdkhZ",
        "colab_type": "code",
        "outputId": "bb6ee07d-665f-4781-f7e3-174c6e71882b",
        "colab": {
          "base_uri": "https://localhost:8080/",
          "height": 51
        }
      },
      "cell_type": "code",
      "source": [
        "print(f\"total size of mnist training data: {mnist_train.data.shape}\")\n",
        "print(f\"total size of mnist testing data: {mnist_test.data.shape}\")\n",
        "\n",
        "packed_train_data = DataLoader(mnist_train, batch_size=100, shuffle=True)"
      ],
      "execution_count": 4,
      "outputs": [
        {
          "output_type": "stream",
          "text": [
            "total size of mnist training data: torch.Size([60000, 28, 28])\n",
            "total size of mnist testing data: torch.Size([10000, 28, 28])\n"
          ],
          "name": "stdout"
        }
      ]
    },
    {
      "metadata": {
        "id": "utsnq6m0f_QB",
        "colab_type": "code",
        "colab": {}
      },
      "cell_type": "code",
      "source": [
        "class Neuralnet(nn.Module):\n",
        "  def __init__(self):\n",
        "    super(Neuralnet, self).__init__()\n",
        "    self.conv1 = nn.Conv2d(1, 8, 5)\n",
        "    self.conv2 = nn.Conv2d(8, 16, 5)\n",
        "    \n",
        "    self.fully_connected1 = nn.Linear(256, 128)\n",
        "    self.fully_connected2 = nn.Linear(128, 10)\n",
        "\n",
        "  def forward(self, input):\n",
        "    x = functional.max_pool2d(functional.relu(self.conv1(input)), 2)\n",
        "    x = functional.max_pool2d(functional.relu(self.conv2(x)), 2)\n",
        "\n",
        "    x = x.view(-1, 256)\n",
        "    x = functional.relu(self.fully_connected1(x))\n",
        "    return functional.log_softmax(self.fully_connected2(x), dim=1)"
      ],
      "execution_count": 0,
      "outputs": []
    },
    {
      "metadata": {
        "id": "YEKAzO5zg4W5",
        "colab_type": "code",
        "outputId": "25cf0508-204f-43ee-bca1-55c189ec83dd",
        "colab": {
          "base_uri": "https://localhost:8080/",
          "height": 34
        }
      },
      "cell_type": "code",
      "source": [
        "device = torch.device('cuda' if torch.cuda.is_available() else 'cpu')\n",
        "model = Neuralnet().to(device)\n",
        "\n",
        "print(f\"is gpu?: {torch.cuda.is_available()}\")"
      ],
      "execution_count": 6,
      "outputs": [
        {
          "output_type": "stream",
          "text": [
            "is gpu?: True\n"
          ],
          "name": "stdout"
        }
      ]
    },
    {
      "metadata": {
        "id": "AaIwsMt7g7Jf",
        "colab_type": "code",
        "outputId": "0d96c90f-ecdc-4f99-c94a-0c23d61c2c31",
        "colab": {
          "base_uri": "https://localhost:8080/",
          "height": 357
        }
      },
      "cell_type": "code",
      "source": [
        "criterion = nn.CrossEntropyLoss()\n",
        "optimizer = optim.SGD(model.parameters(), lr=0.01)\n",
        "\n",
        "for epoch in range(20):\n",
        "  total_loss = 0\n",
        "  \n",
        "  for train_x, train_y in packed_train_data:\n",
        "    train_x = train_x.to(device)\n",
        "    train_y = train_y.to(device)\n",
        "    optimizer.zero_grad()\n",
        "    \n",
        "    output = model(train_x)\n",
        "    \n",
        "    loss = criterion(output, train_y)\n",
        "    loss.backward()\n",
        "    optimizer.step()\n",
        "    \n",
        "    total_loss += loss.data.item()\n",
        "  \n",
        "  print(f\"epoch {epoch + 1}, loss: {total_loss}\")"
      ],
      "execution_count": 7,
      "outputs": [
        {
          "output_type": "stream",
          "text": [
            "epoch 1, loss: 1109.0054901838303\n",
            "epoch 2, loss: 257.68004980683327\n",
            "epoch 3, loss: 166.967216424644\n",
            "epoch 4, loss: 126.98606924712658\n",
            "epoch 5, loss: 102.12285390868783\n",
            "epoch 6, loss: 86.55035280063748\n",
            "epoch 7, loss: 75.99609312601388\n",
            "epoch 8, loss: 67.25557247921824\n",
            "epoch 9, loss: 61.35300855245441\n",
            "epoch 10, loss: 56.364834351465106\n",
            "epoch 11, loss: 52.395206150598824\n",
            "epoch 12, loss: 48.87818210572004\n",
            "epoch 13, loss: 46.5550894215703\n",
            "epoch 14, loss: 43.739330866374075\n",
            "epoch 15, loss: 41.40606602653861\n",
            "epoch 16, loss: 39.844686426222324\n",
            "epoch 17, loss: 38.40215003956109\n",
            "epoch 18, loss: 36.51372392196208\n",
            "epoch 19, loss: 35.15082766767591\n",
            "epoch 20, loss: 33.96119598066434\n"
          ],
          "name": "stdout"
        }
      ]
    },
    {
      "metadata": {
        "id": "jtE-hzx9h2Hq",
        "colab_type": "code",
        "colab": {}
      },
      "cell_type": "code",
      "source": [
        "x = mnist_test.data\n",
        "y = mnist_test.targets\n",
        "\n",
        "x = x.to(device)\n",
        "\n",
        "result = torch.max(model(torch.reshape(x, (10000, 1, 28, 28)).float()), 1)[1]\n",
        "accuracy = sum(y.data.numpy() == result.detach().cpu().numpy()) / len(y.data.numpy())"
      ],
      "execution_count": 0,
      "outputs": []
    },
    {
      "metadata": {
        "id": "ELwdEg42vfov",
        "colab_type": "code",
        "outputId": "5ecb042c-5164-46e6-e7d8-ce928a1f34da",
        "colab": {
          "base_uri": "https://localhost:8080/",
          "height": 34
        }
      },
      "cell_type": "code",
      "source": [
        "print(f\"accuracy: {accuracy}\")"
      ],
      "execution_count": 23,
      "outputs": [
        {
          "output_type": "stream",
          "text": [
            "accuracy: 0.9833\n"
          ],
          "name": "stdout"
        }
      ]
    }
  ]
}