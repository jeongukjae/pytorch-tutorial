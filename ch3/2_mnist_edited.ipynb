{
  "nbformat": 4,
  "nbformat_minor": 0,
  "metadata": {
    "colab": {
      "name": "mnist.ipynb",
      "version": "0.3.2",
      "provenance": [],
      "collapsed_sections": [],
      "include_colab_link": true
    },
    "kernelspec": {
      "name": "python3",
      "display_name": "Python 3"
    },
    "accelerator": "GPU"
  },
  "cells": [
    {
      "cell_type": "markdown",
      "metadata": {
        "id": "view-in-github",
        "colab_type": "text"
      },
      "source": [
        "<a href=\"https://colab.research.google.com/github/jeongukjae/pytorch-tutorial/blob/master/ch3/2_mnist_edited.ipynb\" target=\"_parent\"><img src=\"https://colab.research.google.com/assets/colab-badge.svg\" alt=\"Open In Colab\"/></a>"
      ]
    },
    {
      "metadata": {
        "id": "IvkM_Q99vlxI",
        "colab_type": "text"
      },
      "cell_type": "markdown",
      "source": [
        "# MNIST with PyTorch\n",
        "\n",
        "(Feedforward NN)"
      ]
    },
    {
      "metadata": {
        "id": "29DpER0Sal5J",
        "colab_type": "code",
        "colab": {}
      },
      "cell_type": "code",
      "source": [
        "import torch\n",
        "\n",
        "from torch import nn, optim\n",
        "from torch.nn import functional\n",
        "from torch.autograd import Variable\n",
        "from torch.utils.data import DataLoader, TensorDataset, random_split\n",
        "\n",
        "from torchvision import datasets, transforms\n",
        "\n",
        "from sklearn import model_selection\n",
        "\n",
        "from matplotlib import pyplot as plt\n",
        "from matplotlib import cm\n",
        "\n",
        "%matplotlib inline"
      ],
      "execution_count": 0,
      "outputs": []
    },
    {
      "metadata": {
        "id": "tydPcFkqbrlj",
        "colab_type": "code",
        "colab": {}
      },
      "cell_type": "code",
      "source": [
        "# load mnist data\n",
        "mnist_train = datasets.MNIST('./mnist-data',\n",
        "                       download=True,\n",
        "                       train=True,\n",
        "                       transform=transforms.ToTensor())\n",
        "mnist_test = datasets.MNIST('./mnist-data',\n",
        "                       download=True,\n",
        "                       train=False,\n",
        "                       transform=transforms.ToTensor())"
      ],
      "execution_count": 0,
      "outputs": []
    },
    {
      "metadata": {
        "id": "WO77gSQTb7KF",
        "colab_type": "code",
        "outputId": "e14b23eb-ca00-44be-e3ad-7425d9b19fd2",
        "colab": {
          "base_uri": "https://localhost:8080/",
          "height": 265
        }
      },
      "cell_type": "code",
      "source": [
        "# show mnist data\n",
        "plt.imshow(mnist_train.data[0], cmap=cm.gray_r)\n",
        "plt.show()"
      ],
      "execution_count": 3,
      "outputs": [
        {
          "output_type": "display_data",
          "data": {
            "image/png": "[encoded data removed]",
            "text/plain": [
              "<Figure size 432x288 with 1 Axes>"
            ]
          },
          "metadata": {
            "tags": []
          }
        }
      ]
    },
    {
      "metadata": {
        "id": "oCl-G7zmdkhZ",
        "colab_type": "code",
        "outputId": "0aa3c053-62d0-4ff3-9702-398103ef1084",
        "colab": {
          "base_uri": "https://localhost:8080/",
          "height": 51
        }
      },
      "cell_type": "code",
      "source": [
        "print(f\"total size of mnist training data: {mnist_train.data.shape}\")\n",
        "print(f\"total size of mnist testing data: {mnist_test.data.shape}\")\n",
        "\n",
        "packed_train_data = DataLoader(mnist_train, batch_size=100, shuffle=True)"
      ],
      "execution_count": 4,
      "outputs": [
        {
          "output_type": "stream",
          "text": [
            "total size of mnist training data: torch.Size([60000, 28, 28])\n",
            "total size of mnist testing data: torch.Size([10000, 28, 28])\n"
          ],
          "name": "stdout"
        }
      ]
    },
    {
      "metadata": {
        "id": "utsnq6m0f_QB",
        "colab_type": "code",
        "colab": {}
      },
      "cell_type": "code",
      "source": [
        "class Neuralnet(nn.Module):\n",
        "  def __init__(self):\n",
        "    super(Neuralnet, self).__init__()\n",
        "    self.fully_connected1 = nn.Linear(784, 512) # 28 * 28\n",
        "    self.fully_connected2 = nn.Linear(512, 512)\n",
        "    self.fully_connected3 = nn.Linear(512, 256)\n",
        "    self.fully_connected4 = nn.Linear(256, 256)\n",
        "    self.fully_connected5 = nn.Linear(256, 10)\n",
        "\n",
        "  def forward(self, input):\n",
        "    x = functional.relu(self.fully_connected1(input))\n",
        "    x = functional.relu(self.fully_connected2(x))\n",
        "    x = functional.relu(self.fully_connected3(x))\n",
        "    x = functional.relu(self.fully_connected4(x))\n",
        "    x = functional.dropout(x, training=self.training)\n",
        "    return functional.log_softmax(self.fully_connected5(x), dim=1)"
      ],
      "execution_count": 0,
      "outputs": []
    },
    {
      "metadata": {
        "id": "YEKAzO5zg4W5",
        "colab_type": "code",
        "outputId": "e23068ef-8846-4a45-8405-fd2419bb8576",
        "colab": {
          "base_uri": "https://localhost:8080/",
          "height": 34
        }
      },
      "cell_type": "code",
      "source": [
        "device = torch.device('cuda' if torch.cuda.is_available() else 'cpu')\n",
        "model = Neuralnet().to(device)\n",
        "\n",
        "print(f\"is gpu?: {torch.cuda.is_available()}\")"
      ],
      "execution_count": 6,
      "outputs": [
        {
          "output_type": "stream",
          "text": [
            "is gpu?: True\n"
          ],
          "name": "stdout"
        }
      ]
    },
    {
      "metadata": {
        "id": "AaIwsMt7g7Jf",
        "colab_type": "code",
        "outputId": "33b3959b-5041-4b9c-c196-38dc4afde343",
        "colab": {
          "base_uri": "https://localhost:8080/",
          "height": 357
        }
      },
      "cell_type": "code",
      "source": [
        "criterion = nn.CrossEntropyLoss()\n",
        "optimizer = optim.SGD(model.parameters(), lr=0.01)\n",
        "\n",
        "for epoch in range(20):\n",
        "  total_loss = 0\n",
        "  \n",
        "  for train_x, train_y in packed_train_data:\n",
        "    train_x = train_x.reshape(-1, 28*28).to(device)\n",
        "    train_y = train_y.to(device)\n",
        "    optimizer.zero_grad()\n",
        "    \n",
        "    output = model(train_x)\n",
        "    \n",
        "    loss = criterion(output, train_y)\n",
        "    loss.backward()\n",
        "    optimizer.step()\n",
        "    \n",
        "    total_loss += loss.data.item()\n",
        "  \n",
        "  print(f\"epoch {epoch + 1}, loss: {total_loss}\")"
      ],
      "execution_count": 7,
      "outputs": [
        {
          "output_type": "stream",
          "text": [
            "epoch 1, loss: 1379.136223077774\n",
            "epoch 2, loss: 1369.2813124656677\n",
            "epoch 3, loss: 1299.5392643213272\n",
            "epoch 4, loss: 790.519590318203\n",
            "epoch 5, loss: 445.13306429982185\n",
            "epoch 6, loss: 341.5683365762234\n",
            "epoch 7, loss: 285.27935215830803\n",
            "epoch 8, loss: 247.27432598173618\n",
            "epoch 9, loss: 219.83317589759827\n",
            "epoch 10, loss: 196.67304426431656\n",
            "epoch 11, loss: 177.0175697132945\n",
            "epoch 12, loss: 159.96051914989948\n",
            "epoch 13, loss: 145.54210218787193\n",
            "epoch 14, loss: 133.178013343364\n",
            "epoch 15, loss: 121.89515858143568\n",
            "epoch 16, loss: 111.52036279439926\n",
            "epoch 17, loss: 103.6888063699007\n",
            "epoch 18, loss: 96.67028532549739\n",
            "epoch 19, loss: 89.94248128682375\n",
            "epoch 20, loss: 85.2397886570543\n"
          ],
          "name": "stdout"
        }
      ]
    },
    {
      "metadata": {
        "id": "jtE-hzx9h2Hq",
        "colab_type": "code",
        "colab": {}
      },
      "cell_type": "code",
      "source": [
        "x = mnist_test.data\n",
        "y = mnist_test.targets\n",
        "\n",
        "x = x.reshape(-1, 28 * 28).float().to(device)\n",
        "\n",
        "result = torch.max(model(x), 1)[1]\n",
        "accuracy = sum(y.data.numpy() == result.detach().cpu().numpy()) / len(y.data.numpy())"
      ],
      "execution_count": 0,
      "outputs": []
    },
    {
      "metadata": {
        "id": "ELwdEg42vfov",
        "colab_type": "code",
        "outputId": "b6eacd57-e1f6-4e22-f585-a0977c16ee4e",
        "colab": {
          "base_uri": "https://localhost:8080/",
          "height": 34
        }
      },
      "cell_type": "code",
      "source": [
        "print(f\"accuracy: {accuracy}\")"
      ],
      "execution_count": 9,
      "outputs": [
        {
          "output_type": "stream",
          "text": [
            "accuracy: 0.9547\n"
          ],
          "name": "stdout"
        }
      ]
    }
  ]
}