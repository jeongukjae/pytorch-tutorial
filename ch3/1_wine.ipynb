{
  "nbformat": 4,
  "nbformat_minor": 0,
  "metadata": {
    "colab": {
      "name": "wine.ipynb",
      "version": "0.3.2",
      "provenance": [],
      "collapsed_sections": [],
      "include_colab_link": true
    },
    "kernelspec": {
      "name": "python3",
      "display_name": "Python 3"
    }
  },
  "cells": [
    {
      "cell_type": "markdown",
      "metadata": {
        "id": "view-in-github",
        "colab_type": "text"
      },
      "source": [
        "<a href=\"https://colab.research.google.com/github/jeongukjae/pytorch-tutorial/blob/master/ch3/1_wine.ipynb\" target=\"_parent\"><img src=\"https://colab.research.google.com/assets/colab-badge.svg\" alt=\"Open In Colab\"/></a>"
      ]
    },
    {
      "metadata": {
        "id": "BoKSX02UfmY0",
        "colab_type": "code",
        "colab": {}
      },
      "cell_type": "code",
      "source": [
        "import torch\n",
        "\n",
        "from torch import optim\n",
        "from torch.nn import Module, Linear, CrossEntropyLoss, functional\n",
        "from torch.autograd import Variable\n",
        "from torch.utils.data import DataLoader, TensorDataset\n",
        "\n",
        "from sklearn.datasets import load_wine\n",
        "from sklearn.model_selection import train_test_split"
      ],
      "execution_count": 0,
      "outputs": []
    },
    {
      "metadata": {
        "id": "tspPPDJlgSDk",
        "colab_type": "code",
        "colab": {}
      },
      "cell_type": "code",
      "source": [
        "# load dataset\n",
        "wine = load_wine()\n",
        "\n",
        "wine_data = wine.data[0:130]\n",
        "wine_target = wine.target[0:130]"
      ],
      "execution_count": 0,
      "outputs": []
    },
    {
      "metadata": {
        "id": "zyss6MmVgUgW",
        "colab_type": "code",
        "outputId": "8c49b6ed-c5eb-4d95-a1bd-e075590a656c",
        "colab": {
          "base_uri": "https://localhost:8080/",
          "height": 85
        }
      },
      "cell_type": "code",
      "source": [
        "train_x, test_x, train_y, test_y = train_test_split(wine_data, wine_target, test_size=0.2)\n",
        "\n",
        "print(f\"length of train_x : {len(train_x)}\")\n",
        "print(f\"length of train_y : {len(train_y)}\")\n",
        "print(f\"length of test_x : {len(test_x)}\")\n",
        "print(f\"length of test_y : {len(test_y)}\")"
      ],
      "execution_count": 12,
      "outputs": [
        {
          "output_type": "stream",
          "text": [
            "length of train_x : 104\n",
            "length of train_y : 104\n",
            "length of test_x : 26\n",
            "length of test_y : 26\n"
          ],
          "name": "stdout"
        }
      ]
    },
    {
      "metadata": {
        "id": "f48ZI1lYg1xD",
        "colab_type": "code",
        "outputId": "6060955d-a75a-4cce-acea-62473eb76a18",
        "colab": {
          "base_uri": "https://localhost:8080/",
          "height": 85
        }
      },
      "cell_type": "code",
      "source": [
        "# create tensor data from trainig data\n",
        "train_x_tensor = torch.from_numpy(train_x).float()\n",
        "train_y_tensor = torch.from_numpy(train_y).long()\n",
        "\n",
        "# create tensor data from test data\n",
        "test_x_tensor = torch.from_numpy(test_x).float()\n",
        "test_y_tensor = torch.from_numpy(test_y).long()\n",
        "\n",
        "# print shape of trainig data\n",
        "print(f\"shape of train_x_tensor: {train_x_tensor.shape}\")\n",
        "print(f\"shape of train_y_tensor: {train_y_tensor.shape}\")\n",
        "print(f\"shape of test_x_tensor: {test_x_tensor.shape}\")\n",
        "print(f\"shape of test_y_tensor: {test_y_tensor.shape}\")"
      ],
      "execution_count": 13,
      "outputs": [
        {
          "output_type": "stream",
          "text": [
            "shape of train_x_tensor: torch.Size([104, 13])\n",
            "shape of train_y_tensor: torch.Size([104])\n",
            "shape of test_x_tensor: torch.Size([26, 13])\n",
            "shape of test_y_tensor: torch.Size([26])\n"
          ],
          "name": "stdout"
        }
      ]
    },
    {
      "metadata": {
        "id": "e-ZMGMphhXo8",
        "colab_type": "code",
        "outputId": "efe31c0c-5c5a-4d9c-c5cc-85c9f6ee6013",
        "colab": {
          "base_uri": "https://localhost:8080/",
          "height": 85
        }
      },
      "cell_type": "code",
      "source": [
        "# create tensor dataset for train\n",
        "tensor_dataset_for_train = TensorDataset(train_x_tensor, train_y_tensor)\n",
        "print(f\"first data of tensor_dataset_for_train: \\n{tensor_dataset_for_train[0]}\")\n",
        "\n",
        "# create minibatch of tensor_dataset_for_train\n",
        "train_loader = DataLoader(tensor_dataset_for_train, batch_size=16, shuffle=True)"
      ],
      "execution_count": 14,
      "outputs": [
        {
          "output_type": "stream",
          "text": [
            "first data of tensor_dataset_for_train: \n",
            "(tensor([1.3340e+01, 9.4000e-01, 2.3600e+00, 1.7000e+01, 1.1000e+02, 2.5300e+00,\n",
            "        1.3000e+00, 5.5000e-01, 4.2000e-01, 3.1700e+00, 1.0200e+00, 1.9300e+00,\n",
            "        7.5000e+02]), tensor(1))\n"
          ],
          "name": "stdout"
        }
      ]
    },
    {
      "metadata": {
        "id": "7O0b-jFeh3IE",
        "colab_type": "code",
        "colab": {}
      },
      "cell_type": "code",
      "source": [
        "# create neural net\n",
        "class NeuralNet(Module):\n",
        "  def __init__(self):\n",
        "    super(NeuralNet, self).__init__()\n",
        "    self.fully_connected1 = Linear(13, 96)\n",
        "    self.fully_connected2 = Linear(96, 96)\n",
        "    self.fully_connected3 = Linear(96, 96)\n",
        "    self.fully_connected4 = Linear(96, 96)\n",
        "    self.fully_connected5 = Linear(96, 96)\n",
        "    self.fully_connected6 = Linear(96, 2)\n",
        "\n",
        "  def forward(self, x):\n",
        "    x = functional.relu(self.fully_connected1(x))\n",
        "    x = functional.relu(self.fully_connected2(x))\n",
        "    x = functional.relu(self.fully_connected3(x))\n",
        "    x = functional.relu(self.fully_connected4(x))\n",
        "    x = functional.relu(self.fully_connected5(x))\n",
        "    x = self.fully_connected6(x)\n",
        "    return functional.log_softmax(x, dim=1)\n",
        "\n",
        "  \n",
        "model = NeuralNet()"
      ],
      "execution_count": 0,
      "outputs": []
    },
    {
      "metadata": {
        "id": "uBmb1tWMi-9S",
        "colab_type": "code",
        "colab": {}
      },
      "cell_type": "code",
      "source": [
        "# error function\n",
        "criterion = CrossEntropyLoss()\n",
        "\n",
        "# use SGD optimizer and 0.01 learning rate\n",
        "optimizer = optim.SGD(model.parameters(), lr=0.01)"
      ],
      "execution_count": 0,
      "outputs": []
    },
    {
      "metadata": {
        "id": "z37icoxTjUnI",
        "colab_type": "code",
        "outputId": "d968d366-8953-4541-d00e-8e2e674510e9",
        "colab": {
          "base_uri": "https://localhost:8080/",
          "height": 119
        }
      },
      "cell_type": "code",
      "source": [
        "# start training\n",
        "for epoch in range(300):\n",
        "  total_loss = 0\n",
        "  \n",
        "  # take training data\n",
        "  for data_x, data_y in train_loader:\n",
        "    train_x_variable, train_y_variable = Variable(data_x), Variable(data_y)\n",
        "    optimizer.zero_grad()\n",
        "    \n",
        "    output = model(train_x_variable)\n",
        "    loss = criterion(output, train_y_variable)\n",
        "    \n",
        "    loss.backward()\n",
        "    optimizer.step()\n",
        "    total_loss += loss.data.item()\n",
        "\n",
        "  if (epoch + 1) % 50 == 0:\n",
        "    print(f\"epoch {epoch + 1} , total loss is {total_loss}\")"
      ],
      "execution_count": 17,
      "outputs": [
        {
          "output_type": "stream",
          "text": [
            "epoch 50 , total loss is 2.8746326714754105\n",
            "epoch 100 , total loss is 2.425212226808071\n",
            "epoch 150 , total loss is 1.8903180286288261\n",
            "epoch 200 , total loss is 1.7058668732643127\n",
            "epoch 250 , total loss is 1.3640936389565468\n",
            "epoch 300 , total loss is 2.592431478202343\n"
          ],
          "name": "stdout"
        }
      ]
    },
    {
      "metadata": {
        "id": "u_QpyNS4kBx3",
        "colab_type": "code",
        "outputId": "ba87a339-ffd2-406b-9964-032473f76135",
        "colab": {
          "base_uri": "https://localhost:8080/",
          "height": 34
        }
      },
      "cell_type": "code",
      "source": [
        "test_x_variable, test_y_variable = Variable(test_x_tensor), Variable(test_y_tensor)\n",
        "\n",
        "result = torch.max(model(test_x_variable).data, 1)[1]\n",
        "\n",
        "accuracy = sum(test_y_variable.data.numpy() == result.numpy()) / len(test_y_variable.data.numpy())\n",
        "\n",
        "print(f\"accuracy : {accuracy}\")"
      ],
      "execution_count": 18,
      "outputs": [
        {
          "output_type": "stream",
          "text": [
            "accuracy : 0.8846153846153846\n"
          ],
          "name": "stdout"
        }
      ]
    }
  ]
}