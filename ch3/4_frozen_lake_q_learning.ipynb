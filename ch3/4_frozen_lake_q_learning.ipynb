{
  "nbformat": 4,
  "nbformat_minor": 0,
  "metadata": {
    "colab": {
      "name": "q-learning.ipynb",
      "version": "0.3.2",
      "provenance": [],
      "include_colab_link": true
    },
    "kernelspec": {
      "name": "python3",
      "display_name": "Python 3"
    },
    "accelerator": "GPU"
  },
  "cells": [
    {
      "cell_type": "markdown",
      "metadata": {
        "id": "view-in-github",
        "colab_type": "text"
      },
      "source": [
        "<a href=\"https://colab.research.google.com/github/jeongukjae/pytorch-tutorial/blob/master/ch3/4_frozen_lake_q_learning.ipynb\" target=\"_parent\"><img src=\"https://colab.research.google.com/assets/colab-badge.svg\" alt=\"Open In Colab\"/></a>"
      ]
    },
    {
      "metadata": {
        "id": "6UoPiBrrAxUK",
        "colab_type": "code",
        "colab": {}
      },
      "cell_type": "code",
      "source": [
        "import gym\n",
        "import numpy as np"
      ],
      "execution_count": 0,
      "outputs": []
    },
    {
      "metadata": {
        "id": "0pZL9EZqEGYn",
        "colab_type": "code",
        "colab": {}
      },
      "cell_type": "code",
      "source": [
        "# create fronzen lake environment\n",
        "env = gym.make('FrozenLake-v0')"
      ],
      "execution_count": 0,
      "outputs": []
    },
    {
      "metadata": {
        "id": "ANBg6ieiA3_v",
        "colab_type": "code",
        "colab": {
          "base_uri": "https://localhost:8080/",
          "height": 51
        },
        "outputId": "f92fbea0-cd66-4153-8208-26079768c17e"
      },
      "cell_type": "code",
      "source": [
        "print(f\"# of observation_space: {env.observation_space.n}\")\n",
        "print(f\"# of action_space: {env.action_space.n}\")"
      ],
      "execution_count": 3,
      "outputs": [
        {
          "output_type": "stream",
          "text": [
            "# of observation_space: 16\n",
            "# of action_space: 4\n"
          ],
          "name": "stdout"
        }
      ]
    },
    {
      "metadata": {
        "id": "t6LBQAUADEcU",
        "colab_type": "code",
        "colab": {}
      },
      "cell_type": "code",
      "source": [
        "q_func = np.zeros((16, 4))"
      ],
      "execution_count": 0,
      "outputs": []
    },
    {
      "metadata": {
        "id": "hBX3KaQeEMUu",
        "colab_type": "code",
        "colab": {
          "base_uri": "https://localhost:8080/",
          "height": 867
        },
        "outputId": "ea77e992-909e-44b7-b16e-0c6deb21d1d9"
      },
      "cell_type": "code",
      "source": [
        "total_reward = .0\n",
        "prev_total_reward = .0\n",
        "\n",
        "for episode in range(50000):\n",
        "  obs = env.reset()\n",
        "  episode_reward = .0\n",
        "  \n",
        "  for t in range(100):\n",
        "    current_state = obs\n",
        "    if np.random.rand() < 0.1:\n",
        "      action = env.action_space.sample()\n",
        "    else:\n",
        "      action = np.argmax(q_func[current_state])\n",
        "    \n",
        "    obs, reward, done, info = env.step(action)\n",
        "    q_func[current_state, action] += 0.3 * (reward + 0.99 * np.max(q_func[obs,:]) - \n",
        "                                            q_func[current_state,action])\n",
        "    \n",
        "    episode_reward += reward\n",
        "    if done:\n",
        "      break\n",
        "\n",
        "  total_reward += episode_reward\n",
        "  if (episode + 1) % 1000 == 0:\n",
        "    print(f\"episode : {episode + 1}, total_reward: {total_reward}, diff: {total_reward - prev_total_reward}\")\n",
        "    prev_total_reward = total_reward"
      ],
      "execution_count": 5,
      "outputs": [
        {
          "output_type": "stream",
          "text": [
            "episode : 1000, total_reward: 0.0, diff: 0.0\n",
            "episode : 2000, total_reward: 0.0, diff: 0.0\n",
            "episode : 3000, total_reward: 0.0, diff: 0.0\n",
            "episode : 4000, total_reward: 0.0, diff: 0.0\n",
            "episode : 5000, total_reward: 0.0, diff: 0.0\n",
            "episode : 6000, total_reward: 0.0, diff: 0.0\n",
            "episode : 7000, total_reward: 49.0, diff: 49.0\n",
            "episode : 8000, total_reward: 400.0, diff: 351.0\n",
            "episode : 9000, total_reward: 732.0, diff: 332.0\n",
            "episode : 10000, total_reward: 1073.0, diff: 341.0\n",
            "episode : 11000, total_reward: 1425.0, diff: 352.0\n",
            "episode : 12000, total_reward: 1760.0, diff: 335.0\n",
            "episode : 13000, total_reward: 2108.0, diff: 348.0\n",
            "episode : 14000, total_reward: 2479.0, diff: 371.0\n",
            "episode : 15000, total_reward: 2822.0, diff: 343.0\n",
            "episode : 16000, total_reward: 3156.0, diff: 334.0\n",
            "episode : 17000, total_reward: 3515.0, diff: 359.0\n",
            "episode : 18000, total_reward: 3840.0, diff: 325.0\n",
            "episode : 19000, total_reward: 4196.0, diff: 356.0\n",
            "episode : 20000, total_reward: 4521.0, diff: 325.0\n",
            "episode : 21000, total_reward: 4860.0, diff: 339.0\n",
            "episode : 22000, total_reward: 5184.0, diff: 324.0\n",
            "episode : 23000, total_reward: 5509.0, diff: 325.0\n",
            "episode : 24000, total_reward: 5823.0, diff: 314.0\n",
            "episode : 25000, total_reward: 6153.0, diff: 330.0\n",
            "episode : 26000, total_reward: 6491.0, diff: 338.0\n",
            "episode : 27000, total_reward: 6848.0, diff: 357.0\n",
            "episode : 28000, total_reward: 7179.0, diff: 331.0\n",
            "episode : 29000, total_reward: 7508.0, diff: 329.0\n",
            "episode : 30000, total_reward: 7873.0, diff: 365.0\n",
            "episode : 31000, total_reward: 8173.0, diff: 300.0\n",
            "episode : 32000, total_reward: 8539.0, diff: 366.0\n",
            "episode : 33000, total_reward: 8878.0, diff: 339.0\n",
            "episode : 34000, total_reward: 9227.0, diff: 349.0\n",
            "episode : 35000, total_reward: 9563.0, diff: 336.0\n",
            "episode : 36000, total_reward: 9882.0, diff: 319.0\n",
            "episode : 37000, total_reward: 10201.0, diff: 319.0\n",
            "episode : 38000, total_reward: 10558.0, diff: 357.0\n",
            "episode : 39000, total_reward: 10924.0, diff: 366.0\n",
            "episode : 40000, total_reward: 11258.0, diff: 334.0\n",
            "episode : 41000, total_reward: 11621.0, diff: 363.0\n",
            "episode : 42000, total_reward: 11971.0, diff: 350.0\n",
            "episode : 43000, total_reward: 12313.0, diff: 342.0\n",
            "episode : 44000, total_reward: 12662.0, diff: 349.0\n",
            "episode : 45000, total_reward: 13017.0, diff: 355.0\n",
            "episode : 46000, total_reward: 13346.0, diff: 329.0\n",
            "episode : 47000, total_reward: 13712.0, diff: 366.0\n",
            "episode : 48000, total_reward: 14058.0, diff: 346.0\n",
            "episode : 49000, total_reward: 14386.0, diff: 328.0\n",
            "episode : 50000, total_reward: 14720.0, diff: 334.0\n"
          ],
          "name": "stdout"
        }
      ]
    },
    {
      "metadata": {
        "id": "FInevV0LFFgE",
        "colab_type": "code",
        "colab": {
          "base_uri": "https://localhost:8080/",
          "height": 51
        },
        "outputId": "727cafac-25b4-48d2-aef1-f317e10c022a"
      },
      "cell_type": "code",
      "source": [
        "print(f\"total_reward: {total_reward}\")\n",
        "print(f\"average_reward: {total_reward / 50000}\")"
      ],
      "execution_count": 7,
      "outputs": [
        {
          "output_type": "stream",
          "text": [
            "total_reward: 14720.0\n",
            "average_reward: 0.2944\n"
          ],
          "name": "stdout"
        }
      ]
    }
  ]
}